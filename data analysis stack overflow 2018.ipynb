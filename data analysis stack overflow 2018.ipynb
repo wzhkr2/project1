{
 "cells": [
  {
   "cell_type": "code",
   "execution_count": 1,
   "metadata": {},
   "outputs": [],
   "source": [
    "import pandas as pd\n",
    "import numpy as np\n",
    "import seaborn as sns\n",
    "import matplotlib.pyplot as plt\n",
    "from sklearn.tree import DecisionTreeClassifier  \n",
    "from sklearn.model_selection import train_test_split\n",
    "\n",
    "import warnings\n",
    "warnings.filterwarnings(\"ignore\")\n",
    "\n",
    "from pandas import DataFrame\n",
    "from sklearn.naive_bayes import BernoulliNB, GaussianNB, MultinomialNB\n",
    "from sklearn.metrics import accuracy_score, f1_score, precision_score, recall_score, confusion_matrix, classification_report\n",
    "from sklearn.ensemble import RandomForestClassifier\n",
    "from sklearn.linear_model import LogisticRegression\n",
    "\n",
    "from sklearn import preprocessing\n",
    "le = preprocessing.LabelEncoder()"
   ]
  },
  {
   "cell_type": "code",
   "execution_count": 2,
   "metadata": {},
   "outputs": [],
   "source": [
    "df_2018 = pd.read_csv('survey_results_public.csv')"
   ]
  },
  {
   "cell_type": "markdown",
   "metadata": {},
   "source": [
    "#### Define dictionaries to make certain verbose data into concise definitions"
   ]
  },
  {
   "cell_type": "code",
   "execution_count": 3,
   "metadata": {},
   "outputs": [],
   "source": [
    "student_dict = {\n",
    "    'No': 'NO', \n",
    "    'Yes, full-time': 'FULL-TIME', \n",
    "    'Yes, part-time': 'PART-TIME',\n",
    "}\n",
    "# student_map = pd.DataFrame(data=student_original, columns=['Original', 'Modified'])\n",
    "\n",
    "employment_dict = {\n",
    "    'Employed full-time': 'FULL-TIME', \n",
    "    'Independent contractor, freelancer, or self-employed': 'CONTRACTOR', \n",
    "    'Not employed, but looking for work': 'LOOKING', \n",
    "    'Employed part-time': 'PART-TIME', \n",
    "    'Not employed, and not looking for work': 'NOT-LOOKING', \n",
    "    'Retired': 'RETIRED',\n",
    "}\n",
    "\n",
    "education_dict = {\n",
    "    'Bachelor’s degree (BA, BS, B.Eng., etc.)': 'BACHELORS', \n",
    "    'Master’s degree (MA, MS, M.Eng., MBA, etc.)': 'MASTERS', \n",
    "    'Some college/university study without earning a degree': 'NO-DEGREE', \n",
    "    'Secondary school (e.g. American high school, German Realschule or Gymnasium, etc.)': 'SECONDARY', \n",
    "    'Associate degree': 'ASSOCIATE', \n",
    "    'Other doctoral degree (Ph.D, Ed.D., etc.)': 'DOCTORAL', \n",
    "    'Primary/elementary school': 'PRIMARY', \n",
    "    'Professional degree (JD, MD, etc.)': 'PROFESSIONAL', \n",
    "    'I never completed any formal education': 'NONE',\n",
    "    'They never completed any formal education': 'NONE'\n",
    "}\n",
    "company_size_dict = {\n",
    "    'Fewer than 10 employees': '<10', \n",
    "    '10 to 19 employees': '10-19', \n",
    "    '20 to 99 employees': '20-99',\n",
    "    '100 to 499 employees': '100-499', \n",
    "    '500 to 999 employees': '500-999', \n",
    "    '1,000 to 4,999 employees': '1000-4999', \n",
    "    '5,000 to 9,999 employees': '5000-9999', \n",
    "    '10,000 or more employees': '>10000',\n",
    "}\n",
    "\n",
    "job_satisfaction_dict = {\n",
    "    'Extremely dissatisfied': '1', \n",
    "    'Moderately dissatisfied': '2', \n",
    "    'Slightly dissatisfied': '3', \n",
    "    'Neither satisfied nor dissatisfied': '4', \n",
    "    'Slightly satisfied': '5', \n",
    "    'Moderately satisfied': '6', \n",
    "    'Extremely satisfied': '7',\n",
    "}\n",
    "\n",
    "last_new_job_dict = {\n",
    "    \"I've never had a job\": '0',\n",
    "    'Less than a year ago': '<1', \n",
    "    'Between 1 and 2 years ago': '1-2', \n",
    "    'Between 2 and 4 years ago': '2-4', \n",
    "    'More than 4 years ago': '>4', \n",
    "}\n",
    "\n",
    "hours_computer_dict = {\n",
    "    'Less than 1 hour': '<1',\n",
    "    '1 - 4 hours': '1-4', \n",
    "    '5 - 8 hours': '5-8', \n",
    "    '9 - 12 hours': '9-12', \n",
    "    'Over 12 hours': '>12', \n",
    "}\n",
    "\n",
    "hours_outside_dict = {\n",
    "    'Less than 30 minutes': '<0.5',\n",
    "    '30 - 59 minutes': '0.5-1',\n",
    "    '1 - 2 hours': '1-2',\n",
    "    '3 - 4 hours': '3-4',\n",
    "    'Over 4 hours': '>4'\n",
    "}\n",
    "\n",
    "ai_dangerous_dict = {\n",
    "    'Algorithms making important decisions': 'IMP-DECISIONS',\n",
    "    'Artificial intelligence surpassing human intelligence (\"the singularity\")': 'SINGULARITY',\n",
    "    'Evolving definitions of \"fairness\" in algorithmic versus human decisions': 'FAIRNESS-DEFINITION',\n",
    "    'Increasing automation of jobs': 'AUTOMATION'\n",
    "}\n",
    "\n",
    "ai_responsible_dict = {\n",
    "    'The developers or the people creating the AI': 'DEVELOPERS',\n",
    "    'A governmental or other regulatory body': 'GOVT',\n",
    "    'Prominent industry leaders': 'LEADERS',\n",
    "    'Nobody': 'NOBODY'\n",
    "}\n",
    "\n",
    "ai_future_dict = {\n",
    "    \"I'm excited about the possibilities more than worried about the dangers.\": 'EXCITED',\n",
    "    \"I'm worried about the dangers more than I'm excited about the possibilities.\": 'WORRIED',\n",
    "    \"I don't care about it, or I haven't thought about it.\": 'NO-COMMENTS'\n",
    "}\n",
    "\n",
    "exercise_dict = {\n",
    "    \"1 - 2 times per week\" : '2',        \n",
    "    \"3 - 4 times per week\" : '4',        \n",
    "    'Daily or almost every day': '7',\n",
    "    \"I don't typically exercise\" : '0'\n",
    "}\n"
   ]
  },
  {
   "cell_type": "markdown",
   "metadata": {},
   "source": [
    "#### Define function to identify if the undergrad course was related to computer science"
   ]
  },
  {
   "cell_type": "code",
   "execution_count": 4,
   "metadata": {},
   "outputs": [],
   "source": [
    "courses = ['computer', 'software', 'information']\n",
    "def has_software(_undergrad: str) -> bool:\n",
    "    if _undergrad is None:\n",
    "        return False\n",
    "    return any(ext in _undergrad.lower() for ext in courses)"
   ]
  },
  {
   "cell_type": "markdown",
   "metadata": {},
   "source": [
    "#### Extract the important columns into a separate dataset"
   ]
  },
  {
   "cell_type": "code",
   "execution_count": 5,
   "metadata": {},
   "outputs": [],
   "source": [
    "imp_cols = ['Student', 'FormalEducation', 'EducationParents', 'UndergradMajor',\n",
    "            'Employment', 'CompanySize', 'JobSatisfaction', 'CareerSatisfaction', 'LastNewJob',\n",
    "            'HoursComputer', 'HoursOutside','AIDangerous', 'AIInteresting', 'AIResponsible', \n",
    "            'AIFuture','Exercise','ConvertedSalary', 'Salary/bonus','Stockoptions','HealthInsurance',\n",
    "            'Parentalleave','wellnessbenefit', 'pensionsavings', 'Company-providedmeals','officeequipmentallowance',\n",
    "            'Childcarebenefit','Transportationbenefit','Conference/educationbudget']\n",
    "\n",
    "master_imp: DataFrame = df_2018[imp_cols]"
   ]
  },
  {
   "cell_type": "code",
   "execution_count": 47,
   "metadata": {},
   "outputs": [
    {
     "name": "stdout",
     "output_type": "stream",
     "text": [
      "<class 'pandas.core.frame.DataFrame'>\n",
      "RangeIndex: 98855 entries, 0 to 98854\n",
      "Data columns (total 28 columns):\n",
      "Student                       94901 non-null object\n",
      "FormalEducation               94703 non-null object\n",
      "EducationParents              61813 non-null object\n",
      "UndergradMajor                79036 non-null object\n",
      "Employment                    95321 non-null object\n",
      "CompanySize                   71531 non-null object\n",
      "JobSatisfaction               69276 non-null object\n",
      "CareerSatisfaction            76504 non-null object\n",
      "LastNewJob                    78889 non-null object\n",
      "HoursComputer                 72133 non-null object\n",
      "HoursOutside                  72024 non-null object\n",
      "AIDangerous                   63115 non-null object\n",
      "AIInteresting                 65367 non-null object\n",
      "AIResponsible                 65553 non-null object\n",
      "AIFuture                      69728 non-null object\n",
      "Exercise                      72108 non-null object\n",
      "ConvertedSalary               47702 non-null float64\n",
      "Salary/bonus                  64918 non-null float64\n",
      "Stockoptions                  64918 non-null float64\n",
      "HealthInsurance               64918 non-null float64\n",
      "Parentalleave                 64918 non-null float64\n",
      "wellnessbenefit               64918 non-null float64\n",
      "pensionsavings                64918 non-null float64\n",
      "Company-providedmeals         64918 non-null float64\n",
      "officeequipmentallowance      64918 non-null float64\n",
      "Childcarebenefit              64918 non-null float64\n",
      "Transportationbenefit         64918 non-null float64\n",
      "Conference/educationbudget    64917 non-null float64\n",
      "dtypes: float64(12), object(16)\n",
      "memory usage: 21.1+ MB\n"
     ]
    }
   ],
   "source": [
    "master_imp.info()"
   ]
  },
  {
   "cell_type": "code",
   "execution_count": 27,
   "metadata": {},
   "outputs": [
    {
     "data": {
      "text/plain": [
       "ConvertedSalary               51153\n",
       "EducationParents              37042\n",
       "AIDangerous                   35740\n",
       "Conference/educationbudget    33938\n",
       "Childcarebenefit              33937\n",
       "officeequipmentallowance      33937\n",
       "Company-providedmeals         33937\n",
       "pensionsavings                33937\n",
       "wellnessbenefit               33937\n",
       "Parentalleave                 33937\n",
       "HealthInsurance               33937\n",
       "Stockoptions                  33937\n",
       "Salary/bonus                  33937\n",
       "Transportationbenefit         33937\n",
       "AIInteresting                 33488\n",
       "AIResponsible                 33302\n",
       "JobSatisfaction               29579\n",
       "AIFuture                      29127\n",
       "CompanySize                   27324\n",
       "HoursOutside                  26831\n",
       "Exercise                      26747\n",
       "HoursComputer                 26722\n",
       "CareerSatisfaction            22351\n",
       "LastNewJob                    19966\n",
       "UndergradMajor                19819\n",
       "FormalEducation                4152\n",
       "Student                        3954\n",
       "Employment                     3534\n",
       "dtype: int64"
      ]
     },
     "execution_count": 27,
     "metadata": {},
     "output_type": "execute_result"
    }
   ],
   "source": [
    "null_counts = master_imp.isnull().sum().sort_values(ascending = False)\n",
    "null_counts"
   ]
  },
  {
   "cell_type": "markdown",
   "metadata": {},
   "source": [
    "#### impute missing values"
   ]
  },
  {
   "cell_type": "code",
   "execution_count": 6,
   "metadata": {},
   "outputs": [],
   "source": [
    "# master_imp = master_imp.replace(np.nan, '', regex=True)\n",
    "num_cols = master_imp.select_dtypes(include=['float','int']).columns\n",
    "\n",
    "for col in imp_cols:\n",
    "    if col in num_cols:\n",
    "        master_imp[col].fillna(master_imp[col].mean(), inplace=True)\n",
    "    elif master_imp[col].isnull().sum() > 10000:\n",
    "        master_imp[col].fillna('x', inplace=True)\n",
    "    else:\n",
    "        master_imp[col].fillna(master_imp[col].mode()[0], inplace=True)"
   ]
  },
  {
   "cell_type": "markdown",
   "metadata": {},
   "source": [
    "#### Replace the verbose definitions with the concise data dictionary values"
   ]
  },
  {
   "cell_type": "code",
   "execution_count": 7,
   "metadata": {},
   "outputs": [],
   "source": [
    "master_imp = master_imp.replace({\n",
    "    'Student': student_dict,\n",
    "    'Employment': employment_dict,\n",
    "    'FormalEducation': education_dict, \n",
    "    'CompanySize': company_size_dict,\n",
    "    'JobSatisfaction': job_satisfaction_dict,\n",
    "    'CareerSatisfaction': job_satisfaction_dict,\n",
    "    'LastNewJob': last_new_job_dict,\n",
    "    'HoursComputer': hours_computer_dict,\n",
    "    'HoursOutside': hours_outside_dict,\n",
    "    'EducationParents': education_dict,\n",
    "    'AIDangerous': ai_dangerous_dict,\n",
    "    'AIInteresting': ai_dangerous_dict,\n",
    "    'AIResponsible': ai_responsible_dict,\n",
    "    'AIFuture': ai_future_dict,\n",
    "    'Exercise': exercise_dict\n",
    "})\n",
    "\n",
    "master_imp['Studied_Software'] = master_imp['UndergradMajor'].map(has_software)\n",
    "master_imp.drop(columns=['UndergradMajor'], inplace=True)"
   ]
  },
  {
   "cell_type": "code",
   "execution_count": 8,
   "metadata": {
    "scrolled": true
   },
   "outputs": [
    {
     "name": "stdout",
     "output_type": "stream",
     "text": [
      "<class 'pandas.core.frame.DataFrame'>\n",
      "RangeIndex: 98855 entries, 0 to 98854\n",
      "Data columns (total 28 columns):\n",
      "Student                       98855 non-null category\n",
      "FormalEducation               98855 non-null category\n",
      "EducationParents              98855 non-null category\n",
      "Employment                    98855 non-null category\n",
      "CompanySize                   98855 non-null category\n",
      "JobSatisfaction               98855 non-null category\n",
      "CareerSatisfaction            98855 non-null category\n",
      "LastNewJob                    98855 non-null category\n",
      "HoursComputer                 98855 non-null category\n",
      "HoursOutside                  98855 non-null category\n",
      "AIDangerous                   98855 non-null category\n",
      "AIInteresting                 98855 non-null category\n",
      "AIResponsible                 98855 non-null category\n",
      "AIFuture                      98855 non-null category\n",
      "Exercise                      98855 non-null category\n",
      "ConvertedSalary               98855 non-null float64\n",
      "Salary/bonus                  98855 non-null float64\n",
      "Stockoptions                  98855 non-null float64\n",
      "HealthInsurance               98855 non-null float64\n",
      "Parentalleave                 98855 non-null float64\n",
      "wellnessbenefit               98855 non-null float64\n",
      "pensionsavings                98855 non-null float64\n",
      "Company-providedmeals         98855 non-null float64\n",
      "officeequipmentallowance      98855 non-null float64\n",
      "Childcarebenefit              98855 non-null float64\n",
      "Transportationbenefit         98855 non-null float64\n",
      "Conference/educationbudget    98855 non-null float64\n",
      "Studied_Software              98855 non-null category\n",
      "dtypes: category(16), float64(12)\n",
      "memory usage: 10.6 MB\n"
     ]
    }
   ],
   "source": [
    "categorical_cols = master_imp.select_dtypes(include=['object']).columns.tolist()\n",
    "categorical_cols.append('Studied_Software')\n",
    "\n",
    "for col in categorical_cols:\n",
    "    master_imp[col] = pd.Categorical(master_imp[col])\n",
    "\n",
    "master_imp.info()"
   ]
  },
  {
   "cell_type": "code",
   "execution_count": 10,
   "metadata": {
    "scrolled": true
   },
   "outputs": [],
   "source": [
    "X_ = master_imp.drop(['JobSatisfaction'], axis=1)\n",
    "y_ = master_imp[['JobSatisfaction']]"
   ]
  },
  {
   "cell_type": "markdown",
   "metadata": {},
   "source": [
    "#### Dummy coding"
   ]
  },
  {
   "cell_type": "code",
   "execution_count": 11,
   "metadata": {},
   "outputs": [],
   "source": [
    "X_coded = X_.apply(le.fit_transform)"
   ]
  },
  {
   "cell_type": "markdown",
   "metadata": {},
   "source": [
    "#### feature selection"
   ]
  },
  {
   "cell_type": "code",
   "execution_count": 12,
   "metadata": {},
   "outputs": [
    {
     "name": "stdout",
     "output_type": "stream",
     "text": [
      "[0.02001435 0.03501684 0.03398883 0.04798066 0.05985422 0.1484073\n",
      " 0.07873887 0.0371344  0.03126934 0.03564701 0.0271892  0.03727165\n",
      " 0.02701873 0.0317298  0.03814643 0.017669   0.03354654 0.02724419\n",
      " 0.02780459 0.02888079 0.02652625 0.02759844 0.02764335 0.02549499\n",
      " 0.02792393 0.02700927 0.01325102]\n"
     ]
    },
    {
     "data": {
      "image/png": "[encoded data removed]",
      "text/plain": [
       "<Figure size 432x288 with 1 Axes>"
      ]
     },
     "metadata": {
      "needs_background": "light"
     },
     "output_type": "display_data"
    }
   ],
   "source": [
    "from sklearn.ensemble import ExtraTreesClassifier\n",
    "import matplotlib.pyplot as plt\n",
    "model = ExtraTreesClassifier()\n",
    "model.fit(X_coded,y_)\n",
    "print(model.feature_importances_) #use inbuilt class feature_importances of tree based classifiers\n",
    "#plot graph of feature importances for better visualization\n",
    "feat_importances = pd.Series(model.feature_importances_, index=X_coded.columns)\n",
    "feat_importances.nlargest(15).plot(kind='barh')\n",
    "plt.show()"
   ]
  },
  {
   "cell_type": "markdown",
   "metadata": {},
   "source": [
    "#### build model"
   ]
  },
  {
   "cell_type": "code",
   "execution_count": 13,
   "metadata": {
    "scrolled": true
   },
   "outputs": [
    {
     "name": "stdout",
     "output_type": "stream",
     "text": [
      "<class 'pandas.core.frame.DataFrame'>\n",
      "RangeIndex: 98855 entries, 0 to 98854\n",
      "Data columns (total 74 columns):\n",
      "ConvertedSalary                  98855 non-null float64\n",
      "officeequipmentallowance         98855 non-null float64\n",
      "Conference/educationbudget       98855 non-null float64\n",
      "Transportationbenefit            98855 non-null float64\n",
      "Company-providedmeals            98855 non-null float64\n",
      "HoursOutside_0.5-1               98855 non-null uint8\n",
      "HoursOutside_1-2                 98855 non-null uint8\n",
      "HoursOutside_3-4                 98855 non-null uint8\n",
      "HoursOutside_<0.5                98855 non-null uint8\n",
      "HoursOutside_>4                  98855 non-null uint8\n",
      "HoursOutside_x                   98855 non-null uint8\n",
      "CareerSatisfaction_1             98855 non-null uint8\n",
      "CareerSatisfaction_2             98855 non-null uint8\n",
      "CareerSatisfaction_3             98855 non-null uint8\n",
      "CareerSatisfaction_4             98855 non-null uint8\n",
      "CareerSatisfaction_5             98855 non-null uint8\n",
      "CareerSatisfaction_6             98855 non-null uint8\n",
      "CareerSatisfaction_7             98855 non-null uint8\n",
      "CareerSatisfaction_x             98855 non-null uint8\n",
      "FormalEducation_ASSOCIATE        98855 non-null uint8\n",
      "FormalEducation_BACHELORS        98855 non-null uint8\n",
      "FormalEducation_DOCTORAL         98855 non-null uint8\n",
      "FormalEducation_MASTERS          98855 non-null uint8\n",
      "FormalEducation_NO-DEGREE        98855 non-null uint8\n",
      "FormalEducation_NONE             98855 non-null uint8\n",
      "FormalEducation_PRIMARY          98855 non-null uint8\n",
      "FormalEducation_PROFESSIONAL     98855 non-null uint8\n",
      "FormalEducation_SECONDARY        98855 non-null uint8\n",
      "CompanySize_10-19                98855 non-null uint8\n",
      "CompanySize_100-499              98855 non-null uint8\n",
      "CompanySize_1000-4999            98855 non-null uint8\n",
      "CompanySize_20-99                98855 non-null uint8\n",
      "CompanySize_500-999              98855 non-null uint8\n",
      "CompanySize_5000-9999            98855 non-null uint8\n",
      "CompanySize_<10                  98855 non-null uint8\n",
      "CompanySize_>10000               98855 non-null uint8\n",
      "CompanySize_x                    98855 non-null uint8\n",
      "LastNewJob_0                     98855 non-null uint8\n",
      "LastNewJob_1-2                   98855 non-null uint8\n",
      "LastNewJob_2-4                   98855 non-null uint8\n",
      "LastNewJob_<1                    98855 non-null uint8\n",
      "LastNewJob_>4                    98855 non-null uint8\n",
      "LastNewJob_x                     98855 non-null uint8\n",
      "Employment_CONTRACTOR            98855 non-null uint8\n",
      "Employment_FULL-TIME             98855 non-null uint8\n",
      "Employment_LOOKING               98855 non-null uint8\n",
      "Employment_NOT-LOOKING           98855 non-null uint8\n",
      "Employment_PART-TIME             98855 non-null uint8\n",
      "Employment_RETIRED               98855 non-null uint8\n",
      "EducationParents_ASSOCIATE       98855 non-null uint8\n",
      "EducationParents_BACHELORS       98855 non-null uint8\n",
      "EducationParents_DOCTORAL        98855 non-null uint8\n",
      "EducationParents_MASTERS         98855 non-null uint8\n",
      "EducationParents_NO-DEGREE       98855 non-null uint8\n",
      "EducationParents_NONE            98855 non-null uint8\n",
      "EducationParents_PRIMARY         98855 non-null uint8\n",
      "EducationParents_PROFESSIONAL    98855 non-null uint8\n",
      "EducationParents_SECONDARY       98855 non-null uint8\n",
      "EducationParents_x               98855 non-null uint8\n",
      "HoursComputer_1-4                98855 non-null uint8\n",
      "HoursComputer_5-8                98855 non-null uint8\n",
      "HoursComputer_9-12               98855 non-null uint8\n",
      "HoursComputer_<1                 98855 non-null uint8\n",
      "HoursComputer_>12                98855 non-null uint8\n",
      "HoursComputer_x                  98855 non-null uint8\n",
      "AIFuture_EXCITED                 98855 non-null uint8\n",
      "AIFuture_NO-COMMENTS             98855 non-null uint8\n",
      "AIFuture_WORRIED                 98855 non-null uint8\n",
      "AIFuture_x                       98855 non-null uint8\n",
      "Exercise_0                       98855 non-null uint8\n",
      "Exercise_2                       98855 non-null uint8\n",
      "Exercise_4                       98855 non-null uint8\n",
      "Exercise_7                       98855 non-null uint8\n",
      "Exercise_x                       98855 non-null uint8\n",
      "dtypes: float64(5), uint8(69)\n",
      "memory usage: 10.3 MB\n"
     ]
    }
   ],
   "source": [
    "y_col = master_imp[['JobSatisfaction']]\n",
    "x_col = master_imp[['ConvertedSalary','HoursOutside','CareerSatisfaction','FormalEducation','CompanySize',\n",
    "              'LastNewJob','Employment','EducationParents', 'officeequipmentallowance', 'HoursComputer',\n",
    "               'Conference/educationbudget','AIFuture','Exercise','Transportationbenefit','Company-providedmeals']]\n",
    "#[x for x in categorical_cols if x != ('JobSatisfaction'or'AIDangerous'or'AIInteresting'or'AIResponsible'or'AIFuture')]\n",
    "\n",
    "master_coded = pd.get_dummies(x_col)\n",
    "master_coded.info(verbose=True)"
   ]
  },
  {
   "cell_type": "code",
   "execution_count": 14,
   "metadata": {},
   "outputs": [
    {
     "name": "stdout",
     "output_type": "stream",
     "text": [
      "DataFrame stored in pickle file...\n"
     ]
    }
   ],
   "source": [
    "master_coded.to_pickle('./master-coded.pickle')\n",
    "print('DataFrame stored in pickle file...')"
   ]
  },
  {
   "cell_type": "code",
   "execution_count": 15,
   "metadata": {},
   "outputs": [],
   "source": [
    "X_train, X_test, y_train, y_test = train_test_split(master_coded, y_col, test_size=0.33, random_state=42)"
   ]
  },
  {
   "cell_type": "code",
   "execution_count": 16,
   "metadata": {},
   "outputs": [],
   "source": [
    "model_dt = DecisionTreeClassifier()\n",
    "\n",
    "model_dt.fit(X_train, y_train) \n",
    "\n",
    "# Step 3: How well does it predict?\n",
    "\n",
    "y_pred = model_dt.predict(X_test)\n"
   ]
  },
  {
   "cell_type": "code",
   "execution_count": 17,
   "metadata": {},
   "outputs": [
    {
     "name": "stdout",
     "output_type": "stream",
     "text": [
      "Accuracy: 0.51\n",
      "Precision: 0.33\n",
      "Precision: 0.33\n",
      "Recall:  0.33\n"
     ]
    }
   ],
   "source": [
    "print(\"Accuracy: %0.2f\" %accuracy_score(y_test, y_pred))\n",
    "print(\"Precision: %0.2f\" %precision_score(y_test, y_pred, average=\"macro\"))\n",
    "print(\"Precision: %0.2f\" %precision_score(y_test,y_pred, average=\"macro\"))\n",
    "print(\"Recall:  %0.2f\" %recall_score(y_test, y_pred, average=\"macro\"))"
   ]
  },
  {
   "cell_type": "code",
   "execution_count": 18,
   "metadata": {},
   "outputs": [
    {
     "name": "stdout",
     "output_type": "stream",
     "text": [
      "              precision    recall  f1-score   support\n",
      "\n",
      "           1       0.20      0.20      0.20       819\n",
      "           2       0.21      0.23      0.22      2034\n",
      "           3       0.16      0.17      0.16      2327\n",
      "           4       0.13      0.13      0.13      1665\n",
      "           5       0.18      0.18      0.18      3302\n",
      "           6       0.45      0.44      0.45      8706\n",
      "           7       0.35      0.35      0.35      4078\n",
      "           x       0.98      0.97      0.98      9692\n",
      "\n",
      "   micro avg       0.51      0.51      0.51     32623\n",
      "   macro avg       0.33      0.33      0.33     32623\n",
      "weighted avg       0.51      0.51      0.51     32623\n",
      "\n"
     ]
    }
   ],
   "source": [
    "#print(confusion_matrix(y_test, y_pred))\n",
    "print(classification_report(y_test, y_pred))"
   ]
  },
  {
   "cell_type": "markdown",
   "metadata": {},
   "source": [
    "### Navie Bayes"
   ]
  },
  {
   "cell_type": "code",
   "execution_count": 19,
   "metadata": {},
   "outputs": [],
   "source": [
    "model_nb = BernoulliNB()\n",
    "\n",
    "model_nb.fit(X_train, y_train) \n",
    "\n",
    "# Step 3: How well does it predict?\n",
    "\n",
    "y_pred = model_nb.predict(X_test)"
   ]
  },
  {
   "cell_type": "code",
   "execution_count": 20,
   "metadata": {},
   "outputs": [
    {
     "name": "stdout",
     "output_type": "stream",
     "text": [
      "Accuracy: 0.55\n",
      "F1 score: 0.39\n",
      "Precision: 0.41\n",
      "Recall:  0.38\n"
     ]
    }
   ],
   "source": [
    "print(\"Accuracy: %0.2f\" %accuracy_score(y_test, y_pred))\n",
    "print(\"F1 score: %0.2f\" %f1_score(y_test, y_pred, average=\"macro\"))\n",
    "print(\"Precision: %0.2f\" %precision_score(y_test,y_pred, average=\"macro\"))\n",
    "print(\"Recall:  %0.2f\" %recall_score(y_test, y_pred, average=\"macro\"))"
   ]
  },
  {
   "cell_type": "code",
   "execution_count": 21,
   "metadata": {},
   "outputs": [],
   "source": [
    "rft = RandomForestClassifier()\n",
    "\n",
    "rft.fit(X_train,y_train)\n",
    "\n",
    "y_pred = rft.predict(X_test)"
   ]
  },
  {
   "cell_type": "code",
   "execution_count": 22,
   "metadata": {},
   "outputs": [
    {
     "name": "stdout",
     "output_type": "stream",
     "text": [
      "Accuracy: 0.56\n",
      "F1 score: 0.37\n",
      "Precision: 0.39\n",
      "Recall:  0.37\n"
     ]
    }
   ],
   "source": [
    "print(\"Accuracy: %0.2f\" %accuracy_score(y_test, y_pred))\n",
    "print(\"F1 score: %0.2f\" %f1_score(y_test, y_pred, average=\"macro\"))\n",
    "print(\"Precision: %0.2f\" %precision_score(y_test,y_pred, average=\"macro\"))\n",
    "print(\"Recall:  %0.2f\" %recall_score(y_test, y_pred, average=\"macro\"))"
   ]
  },
  {
   "cell_type": "markdown",
   "metadata": {},
   "source": [
    "### dummy coding AI"
   ]
  },
  {
   "cell_type": "code",
   "execution_count": 23,
   "metadata": {},
   "outputs": [],
   "source": [
    "X = master_imp.drop(['AIFuture'],axis=1)\n",
    "y = master_imp[['AIFuture']]"
   ]
  },
  {
   "cell_type": "code",
   "execution_count": 24,
   "metadata": {},
   "outputs": [],
   "source": [
    "X_coded = X.apply(le.fit_transform)"
   ]
  },
  {
   "cell_type": "markdown",
   "metadata": {},
   "source": [
    "#### feature selection"
   ]
  },
  {
   "cell_type": "code",
   "execution_count": 25,
   "metadata": {},
   "outputs": [
    {
     "name": "stdout",
     "output_type": "stream",
     "text": [
      "[0.01320022 0.02291224 0.08273786 0.01419706 0.0256288  0.02620877\n",
      " 0.03811901 0.04020968 0.05490341 0.04008358 0.03313996 0.18472648\n",
      " 0.10937677 0.06731301 0.02315645 0.01327422 0.02000819 0.02349385\n",
      " 0.0182745  0.01847272 0.0230579  0.02048131 0.01945061 0.01809101\n",
      " 0.01979052 0.01975736 0.00993448]\n"
     ]
    },
    {
     "data": {
      "image/png": "[encoded data removed]",
      "text/plain": [
       "<Figure size 432x288 with 1 Axes>"
      ]
     },
     "metadata": {
      "needs_background": "light"
     },
     "output_type": "display_data"
    }
   ],
   "source": [
    "from sklearn.ensemble import ExtraTreesClassifier\n",
    "import matplotlib.pyplot as plt\n",
    "model = ExtraTreesClassifier()\n",
    "model.fit(X_coded,y)\n",
    "print(model.feature_importances_) #use inbuilt class feature_importances of tree based classifiers\n",
    "#plot graph of feature importances for better visualization\n",
    "feat_importances = pd.Series(model.feature_importances_, index=X_coded.columns)\n",
    "feat_importances.nlargest(15).plot(kind='barh')\n",
    "plt.show()"
   ]
  },
  {
   "cell_type": "code",
   "execution_count": 26,
   "metadata": {},
   "outputs": [],
   "source": [
    "X = master_imp.drop(['Employment','JobSatisfaction', 'AIFuture', 'CareerSatisfaction', 'LastNewJob','HoursComputer', \n",
    "                     'HoursOutside','Exercise','Salary/bonus','Stockoptions','HealthInsurance', 'Parentalleave','wellnessbenefit', 'pensionsavings',\n",
    "        'Company-providedmeals','officeequipmentallowance', 'Childcarebenefit','Transportationbenefit',\n",
    "                     'Conference/educationbudget','ConvertedSalary'],axis=1)\n",
    "y = master_imp[['AIFuture']]"
   ]
  },
  {
   "cell_type": "code",
   "execution_count": 27,
   "metadata": {
    "scrolled": true
   },
   "outputs": [
    {
     "name": "stdout",
     "output_type": "stream",
     "text": [
      "<class 'pandas.core.frame.DataFrame'>\n",
      "RangeIndex: 98855 entries, 0 to 98854\n",
      "Data columns (total 48 columns):\n",
      "Student_FULL-TIME                    98855 non-null uint8\n",
      "Student_NO                           98855 non-null uint8\n",
      "Student_PART-TIME                    98855 non-null uint8\n",
      "FormalEducation_ASSOCIATE            98855 non-null uint8\n",
      "FormalEducation_BACHELORS            98855 non-null uint8\n",
      "FormalEducation_DOCTORAL             98855 non-null uint8\n",
      "FormalEducation_MASTERS              98855 non-null uint8\n",
      "FormalEducation_NO-DEGREE            98855 non-null uint8\n",
      "FormalEducation_NONE                 98855 non-null uint8\n",
      "FormalEducation_PRIMARY              98855 non-null uint8\n",
      "FormalEducation_PROFESSIONAL         98855 non-null uint8\n",
      "FormalEducation_SECONDARY            98855 non-null uint8\n",
      "EducationParents_ASSOCIATE           98855 non-null uint8\n",
      "EducationParents_BACHELORS           98855 non-null uint8\n",
      "EducationParents_DOCTORAL            98855 non-null uint8\n",
      "EducationParents_MASTERS             98855 non-null uint8\n",
      "EducationParents_NO-DEGREE           98855 non-null uint8\n",
      "EducationParents_NONE                98855 non-null uint8\n",
      "EducationParents_PRIMARY             98855 non-null uint8\n",
      "EducationParents_PROFESSIONAL        98855 non-null uint8\n",
      "EducationParents_SECONDARY           98855 non-null uint8\n",
      "EducationParents_x                   98855 non-null uint8\n",
      "CompanySize_10-19                    98855 non-null uint8\n",
      "CompanySize_100-499                  98855 non-null uint8\n",
      "CompanySize_1000-4999                98855 non-null uint8\n",
      "CompanySize_20-99                    98855 non-null uint8\n",
      "CompanySize_500-999                  98855 non-null uint8\n",
      "CompanySize_5000-9999                98855 non-null uint8\n",
      "CompanySize_<10                      98855 non-null uint8\n",
      "CompanySize_>10000                   98855 non-null uint8\n",
      "CompanySize_x                        98855 non-null uint8\n",
      "AIDangerous_AUTOMATION               98855 non-null uint8\n",
      "AIDangerous_FAIRNESS-DEFINITION      98855 non-null uint8\n",
      "AIDangerous_IMP-DECISIONS            98855 non-null uint8\n",
      "AIDangerous_SINGULARITY              98855 non-null uint8\n",
      "AIDangerous_x                        98855 non-null uint8\n",
      "AIInteresting_AUTOMATION             98855 non-null uint8\n",
      "AIInteresting_FAIRNESS-DEFINITION    98855 non-null uint8\n",
      "AIInteresting_IMP-DECISIONS          98855 non-null uint8\n",
      "AIInteresting_SINGULARITY            98855 non-null uint8\n",
      "AIInteresting_x                      98855 non-null uint8\n",
      "AIResponsible_DEVELOPERS             98855 non-null uint8\n",
      "AIResponsible_GOVT                   98855 non-null uint8\n",
      "AIResponsible_LEADERS                98855 non-null uint8\n",
      "AIResponsible_NOBODY                 98855 non-null uint8\n",
      "AIResponsible_x                      98855 non-null uint8\n",
      "Studied_Software_False               98855 non-null uint8\n",
      "Studied_Software_True                98855 non-null uint8\n",
      "dtypes: uint8(48)\n",
      "memory usage: 4.5 MB\n"
     ]
    }
   ],
   "source": [
    "X_col_2 = pd.get_dummies(X)\n",
    "X_col_2.info(verbose=True)"
   ]
  },
  {
   "cell_type": "markdown",
   "metadata": {},
   "source": [
    "### run model"
   ]
  },
  {
   "cell_type": "code",
   "execution_count": 28,
   "metadata": {},
   "outputs": [],
   "source": [
    "def run_classification_for_model(_model, _x_train, _x_test, _y_train, _y_test) -> None:\n",
    "    _model.fit(_x_train, _y_train)\n",
    "    _y_pred = _model.predict(_x_test)\n",
    "\n",
    "    print(\"Accuracy: %0.2f\" %accuracy_score(_y_test, _y_pred))\n",
    "    print(\"Precision: %0.2f\" %precision_score(_y_test, _y_pred, average=\"macro\"))\n",
    "    print(\"Recall:  %0.2f\" %recall_score(_y_test, _y_pred, average=\"macro\"))\n",
    "    print(\"F1-score:  %0.2f\" %f1_score(_y_test, _y_pred, average=\"macro\"))\n",
    "\n",
    "    print(confusion_matrix(_y_test, _y_pred))\n",
    "    print(classification_report(_y_test, _y_pred))"
   ]
  },
  {
   "cell_type": "code",
   "execution_count": 29,
   "metadata": {},
   "outputs": [],
   "source": [
    "X_train, X_test, y_train, y_test = train_test_split(X_col_2, y, test_size=0.33, random_state=42)"
   ]
  },
  {
   "cell_type": "code",
   "execution_count": 30,
   "metadata": {},
   "outputs": [
    {
     "data": {
      "text/plain": [
       "LogisticRegression(C=1.0, class_weight=None, dual=False, fit_intercept=True,\n",
       "          intercept_scaling=1, max_iter=100, multi_class='warn',\n",
       "          n_jobs=None, penalty='l2', random_state=None, solver='warn',\n",
       "          tol=0.0001, verbose=0, warm_start=False)"
      ]
     },
     "execution_count": 30,
     "metadata": {},
     "output_type": "execute_result"
    }
   ],
   "source": [
    "logreg = LogisticRegression()\n",
    "logreg.fit(X_train, y_train)"
   ]
  },
  {
   "cell_type": "code",
   "execution_count": 31,
   "metadata": {},
   "outputs": [
    {
     "name": "stdout",
     "output_type": "stream",
     "text": [
      "Accuracy of logistic regression classifier on test set: 0.79\n",
      "              precision    recall  f1-score   support\n",
      "\n",
      "     EXCITED       0.74      0.97      0.84     16749\n",
      " NO-COMMENTS       0.57      0.00      0.00      1914\n",
      "     WORRIED       0.50      0.05      0.10      4394\n",
      "           x       0.94      0.98      0.96      9566\n",
      "\n",
      "   micro avg       0.79      0.79      0.79     32623\n",
      "   macro avg       0.69      0.50      0.47     32623\n",
      "weighted avg       0.75      0.79      0.72     32623\n",
      "\n"
     ]
    }
   ],
   "source": [
    "y_pred = logreg.predict(X_test)\n",
    "print('Accuracy of logistic regression classifier on test set: {:.2f}'.format(logreg.score(X_test, y_test)))\n",
    "\n",
    "print(classification_report(y_test, y_pred))"
   ]
  },
  {
   "cell_type": "code",
   "execution_count": 32,
   "metadata": {},
   "outputs": [
    {
     "name": "stdout",
     "output_type": "stream",
     "text": [
      "[[16284     1   171   293]\n",
      " [ 1714     4    55   141]\n",
      " [ 3992     1   232   169]\n",
      " [  155     1     2  9408]]\n"
     ]
    }
   ],
   "source": [
    "from sklearn.metrics import confusion_matrix\n",
    "confusion_matrix = confusion_matrix(y_test, y_pred)\n",
    "print(confusion_matrix)"
   ]
  },
  {
   "cell_type": "markdown",
   "metadata": {},
   "source": [
    "### Navie Bayes"
   ]
  },
  {
   "cell_type": "code",
   "execution_count": 33,
   "metadata": {},
   "outputs": [
    {
     "data": {
      "text/plain": [
       "BernoulliNB(alpha=1.0, binarize=0.0, class_prior=None, fit_prior=True)"
      ]
     },
     "execution_count": 33,
     "metadata": {},
     "output_type": "execute_result"
    }
   ],
   "source": [
    "from sklearn.naive_bayes import BernoulliNB\n",
    "\n",
    "nb = BernoulliNB()\n",
    "\n",
    "#fit your classifier to training set\n",
    "nb.fit(X_train,y_train)"
   ]
  },
  {
   "cell_type": "code",
   "execution_count": 34,
   "metadata": {},
   "outputs": [
    {
     "name": "stdout",
     "output_type": "stream",
     "text": [
      "Accuracy of Navie Bayes on test set: 0.79\n",
      "              precision    recall  f1-score   support\n",
      "\n",
      "     EXCITED       0.72      0.98      0.83     16749\n",
      " NO-COMMENTS       0.42      0.02      0.04      1914\n",
      "     WORRIED       0.47      0.04      0.08      4394\n",
      "           x       0.96      0.95      0.96      9566\n",
      "\n",
      "   micro avg       0.79      0.79      0.79     32623\n",
      "   macro avg       0.64      0.50      0.48     32623\n",
      "weighted avg       0.74      0.79      0.72     32623\n",
      "\n"
     ]
    }
   ],
   "source": [
    "y_pred = nb.predict(X_test)\n",
    "\n",
    "print('Accuracy of Navie Bayes on test set: {:.2f}'.format(nb.score(X_test, y_test)))\n",
    "print(classification_report(y_test, y_pred))"
   ]
  },
  {
   "cell_type": "code",
   "execution_count": 35,
   "metadata": {},
   "outputs": [
    {
     "name": "stdout",
     "output_type": "stream",
     "text": [
      "[[16382    43   154   170]\n",
      " [ 1713    44    43   114]\n",
      " [ 4102    13   187    92]\n",
      " [  422     4    16  9124]]\n"
     ]
    }
   ],
   "source": [
    "from sklearn.metrics import confusion_matrix\n",
    "confusion_matrix = confusion_matrix(y_test, y_pred)\n",
    "print(confusion_matrix)"
   ]
  },
  {
   "cell_type": "markdown",
   "metadata": {},
   "source": [
    "#### data visualiazation\n"
   ]
  },
  {
   "cell_type": "code",
   "execution_count": 36,
   "metadata": {},
   "outputs": [
    {
     "name": "stdout",
     "output_type": "stream",
     "text": [
      "Yes    79897\n",
      "No     18958\n",
      "Name: Hobby, dtype: int64\n"
     ]
    }
   ],
   "source": [
    "print(df_2018['Hobby'].value_counts())"
   ]
  },
  {
   "cell_type": "code",
   "execution_count": 37,
   "metadata": {},
   "outputs": [],
   "source": [
    "Gender_2018 = [lang for sublist in [str(langs).replace(\" \", \"\").split(\";\") \n",
    "                  for langs in df_2018['Gender']] for lang in sublist]"
   ]
  },
  {
   "cell_type": "code",
   "execution_count": 38,
   "metadata": {},
   "outputs": [
    {
     "data": {
      "text/plain": [
       "Male                                             59785\n",
       "nan                                              34386\n",
       "Female                                            4409\n",
       "Non-binary,genderqueer,orgendernon-conforming      595\n",
       "Transgender                                        423\n",
       "dtype: int64"
      ]
     },
     "execution_count": 38,
     "metadata": {},
     "output_type": "execute_result"
    }
   ],
   "source": [
    "Gender_2018 = pd.Series(Gender_2018)\n",
    "Gender_2018.value_counts()"
   ]
  },
  {
   "cell_type": "code",
   "execution_count": 39,
   "metadata": {},
   "outputs": [
    {
     "data": {
      "text/plain": [
       "Hobby  Gender                                                                   \n",
       "Yes    Male                                                                         49258\n",
       "       Female                                                                        2697\n",
       "       Non-binary, genderqueer, or gender non-conforming                              242\n",
       "       Female;Transgender                                                             127\n",
       "       Male;Non-binary, genderqueer, or gender non-conforming                         112\n",
       "       Transgender                                                                     89\n",
       "       Female;Male                                                                     78\n",
       "       Female;Male;Transgender;Non-binary, genderqueer, or gender non-conforming       45\n",
       "       Transgender;Non-binary, genderqueer, or gender non-conforming                   44\n",
       "       Female;Non-binary, genderqueer, or gender non-conforming                        36\n",
       "       Male;Transgender                                                                22\n",
       "       Female;Transgender;Non-binary, genderqueer, or gender non-conforming            21\n",
       "       Female;Male;Transgender                                                         12\n",
       "       Male;Transgender;Non-binary, genderqueer, or gender non-conforming               4\n",
       "       Female;Male;Non-binary, genderqueer, or gender non-conforming                    3\n",
       "Name: Gender, dtype: int64"
      ]
     },
     "execution_count": 39,
     "metadata": {},
     "output_type": "execute_result"
    }
   ],
   "source": [
    "data = df_2018[['Hobby','Gender']].dropna()\n",
    "data = df_2018.loc[(df_2018['Hobby']=='Yes')] \n",
    "data.groupby('Hobby')['Gender'].value_counts()"
   ]
  },
  {
   "cell_type": "code",
   "execution_count": 41,
   "metadata": {},
   "outputs": [
    {
     "data": {
      "text/plain": [
       "<matplotlib.axes._subplots.AxesSubplot at 0x1e55c1d9898>"
      ]
     },
     "execution_count": 41,
     "metadata": {},
     "output_type": "execute_result"
    },
    {
     "data": {
      "image/png": "[encoded data removed]",
      "text/plain": [
       "<Figure size 432x288 with 1 Axes>"
      ]
     },
     "metadata": {
      "needs_background": "light"
     },
     "output_type": "display_data"
    }
   ],
   "source": [
    "df_2018['Country'].value_counts()[0:10].plot(kind='bar',figsize=(6,4))"
   ]
  },
  {
   "cell_type": "code",
   "execution_count": 42,
   "metadata": {},
   "outputs": [],
   "source": [
    "languages_2018 = [lang for sublist in [str(langs).replace(\" \", \"\").split(\";\") \n",
    "                  for langs in df_2018['LanguageWorkedWith']] for lang in sublist]\n",
    "languages_2018 = pd.Series(languages_2018)"
   ]
  },
  {
   "cell_type": "code",
   "execution_count": 43,
   "metadata": {},
   "outputs": [
    {
     "data": {
      "text/plain": [
       "506189"
      ]
     },
     "execution_count": 43,
     "metadata": {},
     "output_type": "execute_result"
    }
   ],
   "source": [
    "languages_2018.count()"
   ]
  },
  {
   "cell_type": "code",
   "execution_count": 44,
   "metadata": {},
   "outputs": [
    {
     "data": {
      "text/plain": [
       "<matplotlib.axes._subplots.AxesSubplot at 0x1e56a79d7f0>"
      ]
     },
     "execution_count": 44,
     "metadata": {},
     "output_type": "execute_result"
    },
    {
     "data": {
      "image/png": "[encoded data removed]",
      "text/plain": [
       "<Figure size 432x288 with 1 Axes>"
      ]
     },
     "metadata": {
      "needs_background": "light"
     },
     "output_type": "display_data"
    }
   ],
   "source": [
    "languages_2018.value_counts()[0:8].plot(kind='bar',figsize=(6,4))"
   ]
  },
  {
   "cell_type": "code",
   "execution_count": 45,
   "metadata": {},
   "outputs": [],
   "source": [
    "languages_2018_want_to_work = [lang for sublist in [str(langs).replace(\" \", \"\").split(\";\") \n",
    "                  for langs in df_2018['LanguageDesireNextYear']] for lang in sublist]\n",
    "languages_2018_want_to_work = pd.Series(languages_2018_want_to_work)"
   ]
  },
  {
   "cell_type": "code",
   "execution_count": 46,
   "metadata": {},
   "outputs": [
    {
     "data": {
      "text/plain": [
       "JavaScript    38465\n",
       "Python        32795\n",
       "HTML          31789\n",
       "CSS           30199\n",
       "SQL           28011\n",
       "nan           25611\n",
       "Java          22556\n",
       "Bash/Shell    20751\n",
       "dtype: int64"
      ]
     },
     "execution_count": 46,
     "metadata": {},
     "output_type": "execute_result"
    }
   ],
   "source": [
    "languages_2018_want_to_work.value_counts()[0:8]"
   ]
  },
  {
   "cell_type": "code",
   "execution_count": 47,
   "metadata": {},
   "outputs": [
    {
     "data": {
      "text/plain": [
       "AIDangerous\n",
       "Algorithms making important decisions                                        18020\n",
       "Artificial intelligence surpassing human intelligence (\"the singularity\")    17645\n",
       "Evolving definitions of \"fairness\" in algorithmic versus human decisions     14958\n",
       "Increasing automation of jobs                                                12492\n",
       "Name: AIDangerous, dtype: int64"
      ]
     },
     "execution_count": 47,
     "metadata": {},
     "output_type": "execute_result"
    }
   ],
   "source": [
    "df_2018.groupby('AIDangerous')['AIDangerous'].count()"
   ]
  },
  {
   "cell_type": "code",
   "execution_count": 48,
   "metadata": {},
   "outputs": [
    {
     "data": {
      "image/png": "[encoded data removed]",
      "text/plain": [
       "<Figure size 432x432 with 1 Axes>"
      ]
     },
     "metadata": {},
     "output_type": "display_data"
    }
   ],
   "source": [
    "plt.figure(figsize=(6,6))\n",
    "df_2018[\"AIDangerous\"].value_counts().plot.pie(autopct = \"%1.1f%%\",fontsize=10,\n",
    "                                              wedgeprops={\"linewidth\":2},shadow =True)\n",
    "my_circ = plt.Circle((0,0),.7,color=\"white\")\n",
    "#plt.gca().add_artist(my_circ)\n",
    "plt.ylabel(\"\")\n",
    "plt.title(\"AI Dangerous\",fontsize=20)\n",
    "plt.show()"
   ]
  },
  {
   "cell_type": "code",
   "execution_count": 49,
   "metadata": {},
   "outputs": [
    {
     "data": {
      "image/png": "[encoded data removed]",
      "text/plain": [
       "<Figure size 432x432 with 1 Axes>"
      ]
     },
     "metadata": {},
     "output_type": "display_data"
    }
   ],
   "source": [
    "plt.figure(figsize=(6,6))\n",
    "df_2018[\"AIFuture\"].value_counts().plot.pie(autopct = \"%1.1f%%\",fontsize=10,\n",
    "                                              wedgeprops={\"linewidth\":2},shadow =True)\n",
    "my_circ = plt.Circle((0,0),.7,color=\"white\")\n",
    "#plt.gca().add_artist(my_circ)\n",
    "plt.ylabel(\"\")\n",
    "plt.title(\"AI Future\",fontsize=20)\n",
    "plt.show()"
   ]
  },
  {
   "cell_type": "code",
   "execution_count": 50,
   "metadata": {},
   "outputs": [
    {
     "data": {
      "text/html": [
       "<style  type=\"text/css\" >\n",
       "    #T_08f6588c_1eed_11ea_a7d2_8c1645d17017row0_col0 {\n",
       "            background-color:  #c2ecc2;\n",
       "        }    #T_08f6588c_1eed_11ea_a7d2_8c1645d17017row0_col1 {\n",
       "            background-color:  #008000;\n",
       "        }    #T_08f6588c_1eed_11ea_a7d2_8c1645d17017row0_col2 {\n",
       "            background-color:  #b7e5b7;\n",
       "        }    #T_08f6588c_1eed_11ea_a7d2_8c1645d17017row0_col3 {\n",
       "            background-color:  #68ba68;\n",
       "        }    #T_08f6588c_1eed_11ea_a7d2_8c1645d17017row0_col4 {\n",
       "            background-color:  #c8efc8;\n",
       "        }    #T_08f6588c_1eed_11ea_a7d2_8c1645d17017row0_col5 {\n",
       "            background-color:  #82c882;\n",
       "        }    #T_08f6588c_1eed_11ea_a7d2_8c1645d17017row0_col6 {\n",
       "            background-color:  #399f39;\n",
       "        }    #T_08f6588c_1eed_11ea_a7d2_8c1645d17017row1_col0 {\n",
       "            background-color:  #cff3cf;\n",
       "        }    #T_08f6588c_1eed_11ea_a7d2_8c1645d17017row1_col1 {\n",
       "            background-color:  #9ed79e;\n",
       "        }    #T_08f6588c_1eed_11ea_a7d2_8c1645d17017row1_col2 {\n",
       "            background-color:  #ade0ad;\n",
       "        }    #T_08f6588c_1eed_11ea_a7d2_8c1645d17017row1_col3 {\n",
       "            background-color:  #4caa4c;\n",
       "        }    #T_08f6588c_1eed_11ea_a7d2_8c1645d17017row1_col4 {\n",
       "            background-color:  #dcfadc;\n",
       "        }    #T_08f6588c_1eed_11ea_a7d2_8c1645d17017row1_col5 {\n",
       "            background-color:  #4caa4c;\n",
       "        }    #T_08f6588c_1eed_11ea_a7d2_8c1645d17017row1_col6 {\n",
       "            background-color:  #008000;\n",
       "        }    #T_08f6588c_1eed_11ea_a7d2_8c1645d17017row2_col0 {\n",
       "            background-color:  #008000;\n",
       "        }    #T_08f6588c_1eed_11ea_a7d2_8c1645d17017row2_col1 {\n",
       "            background-color:  #198e19;\n",
       "        }    #T_08f6588c_1eed_11ea_a7d2_8c1645d17017row2_col2 {\n",
       "            background-color:  #188d18;\n",
       "        }    #T_08f6588c_1eed_11ea_a7d2_8c1645d17017row2_col3 {\n",
       "            background-color:  #e5ffe5;\n",
       "        }    #T_08f6588c_1eed_11ea_a7d2_8c1645d17017row2_col4 {\n",
       "            background-color:  #a3daa3;\n",
       "        }    #T_08f6588c_1eed_11ea_a7d2_8c1645d17017row2_col5 {\n",
       "            background-color:  #1a8e1a;\n",
       "        }    #T_08f6588c_1eed_11ea_a7d2_8c1645d17017row2_col6 {\n",
       "            background-color:  #9ed79e;\n",
       "        }    #T_08f6588c_1eed_11ea_a7d2_8c1645d17017row3_col0 {\n",
       "            background-color:  #d2f4d2;\n",
       "        }    #T_08f6588c_1eed_11ea_a7d2_8c1645d17017row3_col1 {\n",
       "            background-color:  #e5ffe5;\n",
       "        }    #T_08f6588c_1eed_11ea_a7d2_8c1645d17017row3_col2 {\n",
       "            background-color:  #abdfab;\n",
       "        }    #T_08f6588c_1eed_11ea_a7d2_8c1645d17017row3_col3 {\n",
       "            background-color:  #389f38;\n",
       "        }    #T_08f6588c_1eed_11ea_a7d2_8c1645d17017row3_col4 {\n",
       "            background-color:  #defbde;\n",
       "        }    #T_08f6588c_1eed_11ea_a7d2_8c1645d17017row3_col5 {\n",
       "            background-color:  #4daa4d;\n",
       "        }    #T_08f6588c_1eed_11ea_a7d2_8c1645d17017row3_col6 {\n",
       "            background-color:  #058305;\n",
       "        }    #T_08f6588c_1eed_11ea_a7d2_8c1645d17017row4_col0 {\n",
       "            background-color:  #e5ffe5;\n",
       "        }    #T_08f6588c_1eed_11ea_a7d2_8c1645d17017row4_col1 {\n",
       "            background-color:  #399f39;\n",
       "        }    #T_08f6588c_1eed_11ea_a7d2_8c1645d17017row4_col2 {\n",
       "            background-color:  #cdf2cd;\n",
       "        }    #T_08f6588c_1eed_11ea_a7d2_8c1645d17017row4_col3 {\n",
       "            background-color:  #008000;\n",
       "        }    #T_08f6588c_1eed_11ea_a7d2_8c1645d17017row4_col4 {\n",
       "            background-color:  #e5ffe5;\n",
       "        }    #T_08f6588c_1eed_11ea_a7d2_8c1645d17017row4_col5 {\n",
       "            background-color:  #c0eac0;\n",
       "        }    #T_08f6588c_1eed_11ea_a7d2_8c1645d17017row4_col6 {\n",
       "            background-color:  #c2ebc2;\n",
       "        }    #T_08f6588c_1eed_11ea_a7d2_8c1645d17017row5_col0 {\n",
       "            background-color:  #91d091;\n",
       "        }    #T_08f6588c_1eed_11ea_a7d2_8c1645d17017row5_col1 {\n",
       "            background-color:  #67b967;\n",
       "        }    #T_08f6588c_1eed_11ea_a7d2_8c1645d17017row5_col2 {\n",
       "            background-color:  #e5ffe5;\n",
       "        }    #T_08f6588c_1eed_11ea_a7d2_8c1645d17017row5_col3 {\n",
       "            background-color:  #bee9be;\n",
       "        }    #T_08f6588c_1eed_11ea_a7d2_8c1645d17017row5_col4 {\n",
       "            background-color:  #008000;\n",
       "        }    #T_08f6588c_1eed_11ea_a7d2_8c1645d17017row5_col5 {\n",
       "            background-color:  #e5ffe5;\n",
       "        }    #T_08f6588c_1eed_11ea_a7d2_8c1645d17017row5_col6 {\n",
       "            background-color:  #e5ffe5;\n",
       "        }    #T_08f6588c_1eed_11ea_a7d2_8c1645d17017row6_col0 {\n",
       "            background-color:  #b7e5b7;\n",
       "        }    #T_08f6588c_1eed_11ea_a7d2_8c1645d17017row6_col1 {\n",
       "            background-color:  #82c882;\n",
       "        }    #T_08f6588c_1eed_11ea_a7d2_8c1645d17017row6_col2 {\n",
       "            background-color:  #008000;\n",
       "        }    #T_08f6588c_1eed_11ea_a7d2_8c1645d17017row6_col3 {\n",
       "            background-color:  #6abb6a;\n",
       "        }    #T_08f6588c_1eed_11ea_a7d2_8c1645d17017row6_col4 {\n",
       "            background-color:  #dcfadc;\n",
       "        }    #T_08f6588c_1eed_11ea_a7d2_8c1645d17017row6_col5 {\n",
       "            background-color:  #008000;\n",
       "        }    #T_08f6588c_1eed_11ea_a7d2_8c1645d17017row6_col6 {\n",
       "            background-color:  #54ae54;\n",
       "        }    #T_08f6588c_1eed_11ea_a7d2_8c1645d17017row7_col0 {\n",
       "            background-color:  #d1f4d1;\n",
       "        }    #T_08f6588c_1eed_11ea_a7d2_8c1645d17017row7_col1 {\n",
       "            background-color:  #8bcd8b;\n",
       "        }    #T_08f6588c_1eed_11ea_a7d2_8c1645d17017row7_col2 {\n",
       "            background-color:  #daf9da;\n",
       "        }    #T_08f6588c_1eed_11ea_a7d2_8c1645d17017row7_col3 {\n",
       "            background-color:  #76c176;\n",
       "        }    #T_08f6588c_1eed_11ea_a7d2_8c1645d17017row7_col4 {\n",
       "            background-color:  #7ac37a;\n",
       "        }    #T_08f6588c_1eed_11ea_a7d2_8c1645d17017row7_col5 {\n",
       "            background-color:  #98d498;\n",
       "        }    #T_08f6588c_1eed_11ea_a7d2_8c1645d17017row7_col6 {\n",
       "            background-color:  #45a645;\n",
       "        }    #T_08f6588c_1eed_11ea_a7d2_8c1645d17017row8_col0 {\n",
       "            background-color:  #c4edc4;\n",
       "        }    #T_08f6588c_1eed_11ea_a7d2_8c1645d17017row8_col1 {\n",
       "            background-color:  #94d294;\n",
       "        }    #T_08f6588c_1eed_11ea_a7d2_8c1645d17017row8_col2 {\n",
       "            background-color:  #bde9bd;\n",
       "        }    #T_08f6588c_1eed_11ea_a7d2_8c1645d17017row8_col3 {\n",
       "            background-color:  #5db35d;\n",
       "        }    #T_08f6588c_1eed_11ea_a7d2_8c1645d17017row8_col4 {\n",
       "            background-color:  #cbf1cb;\n",
       "        }    #T_08f6588c_1eed_11ea_a7d2_8c1645d17017row8_col5 {\n",
       "            background-color:  #369e36;\n",
       "        }    #T_08f6588c_1eed_11ea_a7d2_8c1645d17017row8_col6 {\n",
       "            background-color:  #148b14;\n",
       "        }</style>  \n",
       "<table id=\"T_08f6588c_1eed_11ea_a7d2_8c1645d17017\" > \n",
       "<thead>    <tr> \n",
       "        <th class=\"index_name level0\" >CareerSatisfaction</th> \n",
       "        <th class=\"col_heading level0 col0\" >Extremely dissatisfied</th> \n",
       "        <th class=\"col_heading level0 col1\" >Extremely satisfied</th> \n",
       "        <th class=\"col_heading level0 col2\" >Moderately dissatisfied</th> \n",
       "        <th class=\"col_heading level0 col3\" >Moderately satisfied</th> \n",
       "        <th class=\"col_heading level0 col4\" >Neither satisfied nor dissatisfied</th> \n",
       "        <th class=\"col_heading level0 col5\" >Slightly dissatisfied</th> \n",
       "        <th class=\"col_heading level0 col6\" >Slightly satisfied</th> \n",
       "    </tr>    <tr> \n",
       "        <th class=\"index_name level0\" >FormalEducation</th> \n",
       "        <th class=\"blank\" ></th> \n",
       "        <th class=\"blank\" ></th> \n",
       "        <th class=\"blank\" ></th> \n",
       "        <th class=\"blank\" ></th> \n",
       "        <th class=\"blank\" ></th> \n",
       "        <th class=\"blank\" ></th> \n",
       "        <th class=\"blank\" ></th> \n",
       "    </tr></thead> \n",
       "<tbody>    <tr> \n",
       "        <th id=\"T_08f6588c_1eed_11ea_a7d2_8c1645d17017level0_row0\" class=\"row_heading level0 row0\" >Associate degree</th> \n",
       "        <td id=\"T_08f6588c_1eed_11ea_a7d2_8c1645d17017row0_col0\" class=\"data row0 col0\" >0.0382166</td> \n",
       "        <td id=\"T_08f6588c_1eed_11ea_a7d2_8c1645d17017row0_col1\" class=\"data row0 col1\" >0.220382</td> \n",
       "        <td id=\"T_08f6588c_1eed_11ea_a7d2_8c1645d17017row0_col2\" class=\"data row0 col2\" >0.0679406</td> \n",
       "        <td id=\"T_08f6588c_1eed_11ea_a7d2_8c1645d17017row0_col3\" class=\"data row0 col3\" >0.340977</td> \n",
       "        <td id=\"T_08f6588c_1eed_11ea_a7d2_8c1645d17017row0_col4\" class=\"data row0 col4\" >0.0874735</td> \n",
       "        <td id=\"T_08f6588c_1eed_11ea_a7d2_8c1645d17017row0_col5\" class=\"data row0 col5\" >0.0781316</td> \n",
       "        <td id=\"T_08f6588c_1eed_11ea_a7d2_8c1645d17017row0_col6\" class=\"data row0 col6\" >0.166879</td> \n",
       "    </tr>    <tr> \n",
       "        <th id=\"T_08f6588c_1eed_11ea_a7d2_8c1645d17017level0_row1\" class=\"row_heading level0 row1\" >Bachelor’s degree (BA, BS, B.Eng., etc.)</th> \n",
       "        <td id=\"T_08f6588c_1eed_11ea_a7d2_8c1645d17017row1_col0\" class=\"data row1 col0\" >0.0325201</td> \n",
       "        <td id=\"T_08f6588c_1eed_11ea_a7d2_8c1645d17017row1_col1\" class=\"data row1 col1\" >0.187558</td> \n",
       "        <td id=\"T_08f6588c_1eed_11ea_a7d2_8c1645d17017row1_col2\" class=\"data row1 col2\" >0.0690737</td> \n",
       "        <td id=\"T_08f6588c_1eed_11ea_a7d2_8c1645d17017row1_col3\" class=\"data row1 col3\" >0.368561</td> \n",
       "        <td id=\"T_08f6588c_1eed_11ea_a7d2_8c1645d17017row1_col4\" class=\"data row1 col4\" >0.0718187</td> \n",
       "        <td id=\"T_08f6588c_1eed_11ea_a7d2_8c1645d17017row1_col5\" class=\"data row1 col5\" >0.0879247</td> \n",
       "        <td id=\"T_08f6588c_1eed_11ea_a7d2_8c1645d17017row1_col6\" class=\"data row1 col6\" >0.182544</td> \n",
       "    </tr>    <tr> \n",
       "        <th id=\"T_08f6588c_1eed_11ea_a7d2_8c1645d17017level0_row2\" class=\"row_heading level0 row2\" >I never completed any formal education</th> \n",
       "        <td id=\"T_08f6588c_1eed_11ea_a7d2_8c1645d17017row2_col0\" class=\"data row2 col0\" >0.12766</td> \n",
       "        <td id=\"T_08f6588c_1eed_11ea_a7d2_8c1645d17017row2_col1\" class=\"data row2 col1\" >0.21513</td> \n",
       "        <td id=\"T_08f6588c_1eed_11ea_a7d2_8c1645d17017row2_col2\" class=\"data row2 col2\" >0.0874704</td> \n",
       "        <td id=\"T_08f6588c_1eed_11ea_a7d2_8c1645d17017row2_col3\" class=\"data row2 col3\" >0.217494</td> \n",
       "        <td id=\"T_08f6588c_1eed_11ea_a7d2_8c1645d17017row2_col4\" class=\"data row2 col4\" >0.115839</td> \n",
       "        <td id=\"T_08f6588c_1eed_11ea_a7d2_8c1645d17017row2_col5\" class=\"data row2 col5\" >0.0969267</td> \n",
       "        <td id=\"T_08f6588c_1eed_11ea_a7d2_8c1645d17017row2_col6\" class=\"data row2 col6\" >0.13948</td> \n",
       "    </tr>    <tr> \n",
       "        <th id=\"T_08f6588c_1eed_11ea_a7d2_8c1645d17017level0_row3\" class=\"row_heading level0 row3\" >Master’s degree (MA, MS, M.Eng., MBA, etc.)</th> \n",
       "        <td id=\"T_08f6588c_1eed_11ea_a7d2_8c1645d17017row3_col0\" class=\"data row3 col0\" >0.0313567</td> \n",
       "        <td id=\"T_08f6588c_1eed_11ea_a7d2_8c1645d17017row3_col1\" class=\"data row3 col1\" >0.172433</td> \n",
       "        <td id=\"T_08f6588c_1eed_11ea_a7d2_8c1645d17017row3_col2\" class=\"data row3 col2\" >0.0693148</td> \n",
       "        <td id=\"T_08f6588c_1eed_11ea_a7d2_8c1645d17017row3_col3\" class=\"data row3 col3\" >0.388573</td> \n",
       "        <td id=\"T_08f6588c_1eed_11ea_a7d2_8c1645d17017row3_col4\" class=\"data row3 col4\" >0.0697132</td> \n",
       "        <td id=\"T_08f6588c_1eed_11ea_a7d2_8c1645d17017row3_col5\" class=\"data row3 col5\" >0.0877532</td> \n",
       "        <td id=\"T_08f6588c_1eed_11ea_a7d2_8c1645d17017row3_col6\" class=\"data row3 col6\" >0.180856</td> \n",
       "    </tr>    <tr> \n",
       "        <th id=\"T_08f6588c_1eed_11ea_a7d2_8c1645d17017level0_row4\" class=\"row_heading level0 row4\" >Other doctoral degree (Ph.D, Ed.D., etc.)</th> \n",
       "        <td id=\"T_08f6588c_1eed_11ea_a7d2_8c1645d17017row4_col0\" class=\"data row4 col0\" >0.0220963</td> \n",
       "        <td id=\"T_08f6588c_1eed_11ea_a7d2_8c1645d17017row4_col1\" class=\"data row4 col1\" >0.208499</td> \n",
       "        <td id=\"T_08f6588c_1eed_11ea_a7d2_8c1645d17017row4_col2\" class=\"data row4 col2\" >0.0651558</td> \n",
       "        <td id=\"T_08f6588c_1eed_11ea_a7d2_8c1645d17017row4_col3\" class=\"data row4 col3\" >0.443626</td> \n",
       "        <td id=\"T_08f6588c_1eed_11ea_a7d2_8c1645d17017row4_col4\" class=\"data row4 col4\" >0.0640227</td> \n",
       "        <td id=\"T_08f6588c_1eed_11ea_a7d2_8c1645d17017row4_col5\" class=\"data row4 col5\" >0.0668555</td> \n",
       "        <td id=\"T_08f6588c_1eed_11ea_a7d2_8c1645d17017row4_col6\" class=\"data row4 col6\" >0.129745</td> \n",
       "    </tr>    <tr> \n",
       "        <th id=\"T_08f6588c_1eed_11ea_a7d2_8c1645d17017level0_row5\" class=\"row_heading level0 row5\" >Primary/elementary school</th> \n",
       "        <td id=\"T_08f6588c_1eed_11ea_a7d2_8c1645d17017row5_col0\" class=\"data row5 col0\" >0.0609884</td> \n",
       "        <td id=\"T_08f6588c_1eed_11ea_a7d2_8c1645d17017row5_col1\" class=\"data row5 col1\" >0.198738</td> \n",
       "        <td id=\"T_08f6588c_1eed_11ea_a7d2_8c1645d17017row5_col2\" class=\"data row5 col2\" >0.06204</td> \n",
       "        <td id=\"T_08f6588c_1eed_11ea_a7d2_8c1645d17017row5_col3\" class=\"data row5 col3\" >0.256572</td> \n",
       "        <td id=\"T_08f6588c_1eed_11ea_a7d2_8c1645d17017row5_col4\" class=\"data row5 col4\" >0.241851</td> \n",
       "        <td id=\"T_08f6588c_1eed_11ea_a7d2_8c1645d17017row5_col5\" class=\"data row5 col5\" >0.0599369</td> \n",
       "        <td id=\"T_08f6588c_1eed_11ea_a7d2_8c1645d17017row5_col6\" class=\"data row5 col6\" >0.119874</td> \n",
       "    </tr>    <tr> \n",
       "        <th id=\"T_08f6588c_1eed_11ea_a7d2_8c1645d17017level0_row6\" class=\"row_heading level0 row6\" >Professional degree (JD, MD, etc.)</th> \n",
       "        <td id=\"T_08f6588c_1eed_11ea_a7d2_8c1645d17017row6_col0\" class=\"data row6 col0\" >0.0438842</td> \n",
       "        <td id=\"T_08f6588c_1eed_11ea_a7d2_8c1645d17017row6_col1\" class=\"data row6 col1\" >0.193277</td> \n",
       "        <td id=\"T_08f6588c_1eed_11ea_a7d2_8c1645d17017row6_col2\" class=\"data row6 col2\" >0.0905696</td> \n",
       "        <td id=\"T_08f6588c_1eed_11ea_a7d2_8c1645d17017row6_col3\" class=\"data row6 col3\" >0.338936</td> \n",
       "        <td id=\"T_08f6588c_1eed_11ea_a7d2_8c1645d17017row6_col4\" class=\"data row6 col4\" >0.0718954</td> \n",
       "        <td id=\"T_08f6588c_1eed_11ea_a7d2_8c1645d17017row6_col5\" class=\"data row6 col5\" >0.101774</td> \n",
       "        <td id=\"T_08f6588c_1eed_11ea_a7d2_8c1645d17017row6_col6\" class=\"data row6 col6\" >0.159664</td> \n",
       "    </tr>    <tr> \n",
       "        <th id=\"T_08f6588c_1eed_11ea_a7d2_8c1645d17017level0_row7\" class=\"row_heading level0 row7\" >Secondary school (e.g. American high school, German Realschule or Gymnasium, etc.)</th> \n",
       "        <td id=\"T_08f6588c_1eed_11ea_a7d2_8c1645d17017row7_col0\" class=\"data row7 col0\" >0.0319431</td> \n",
       "        <td id=\"T_08f6588c_1eed_11ea_a7d2_8c1645d17017row7_col1\" class=\"data row7 col1\" >0.191493</td> \n",
       "        <td id=\"T_08f6588c_1eed_11ea_a7d2_8c1645d17017row7_col2\" class=\"data row7 col2\" >0.0635551</td> \n",
       "        <td id=\"T_08f6588c_1eed_11ea_a7d2_8c1645d17017row7_col3\" class=\"data row7 col3\" >0.327375</td> \n",
       "        <td id=\"T_08f6588c_1eed_11ea_a7d2_8c1645d17017row7_col4\" class=\"data row7 col4\" >0.147799</td> \n",
       "        <td id=\"T_08f6588c_1eed_11ea_a7d2_8c1645d17017row7_col5\" class=\"data row7 col5\" >0.0741476</td> \n",
       "        <td id=\"T_08f6588c_1eed_11ea_a7d2_8c1645d17017row7_col6\" class=\"data row7 col6\" >0.163688</td> \n",
       "    </tr>    <tr> \n",
       "        <th id=\"T_08f6588c_1eed_11ea_a7d2_8c1645d17017level0_row8\" class=\"row_heading level0 row8\" >Some college/university study without earning a degree</th> \n",
       "        <td id=\"T_08f6588c_1eed_11ea_a7d2_8c1645d17017row8_col0\" class=\"data row8 col0\" >0.0374105</td> \n",
       "        <td id=\"T_08f6588c_1eed_11ea_a7d2_8c1645d17017row8_col1\" class=\"data row8 col1\" >0.189655</td> \n",
       "        <td id=\"T_08f6588c_1eed_11ea_a7d2_8c1645d17017row8_col2\" class=\"data row8 col2\" >0.0671221</td> \n",
       "        <td id=\"T_08f6588c_1eed_11ea_a7d2_8c1645d17017row8_col3\" class=\"data row8 col3\" >0.352093</td> \n",
       "        <td id=\"T_08f6588c_1eed_11ea_a7d2_8c1645d17017row8_col4\" class=\"data row8 col4\" >0.0846888</td> \n",
       "        <td id=\"T_08f6588c_1eed_11ea_a7d2_8c1645d17017row8_col5\" class=\"data row8 col5\" >0.091954</td> \n",
       "        <td id=\"T_08f6588c_1eed_11ea_a7d2_8c1645d17017row8_col6\" class=\"data row8 col6\" >0.177077</td> \n",
       "    </tr></tbody> \n",
       "</table> "
      ],
      "text/plain": [
       "<pandas.io.formats.style.Styler at 0x1e564b11748>"
      ]
     },
     "execution_count": 50,
     "metadata": {},
     "output_type": "execute_result"
    }
   ],
   "source": [
    "date_int = ['FormalEducation',\"CareerSatisfaction\"]\n",
    "\n",
    "cm = sns.light_palette(\"green\", as_cmap=True)\n",
    "pd.crosstab(df_2018[date_int[0]], df_2018[date_int[1]], normalize='index').style.background_gradient(cmap = cm)"
   ]
  },
  {
   "cell_type": "code",
   "execution_count": 51,
   "metadata": {},
   "outputs": [],
   "source": [
    "#df_2018['Gender']=df_2018['Gender'].fillna('Others')"
   ]
  },
  {
   "cell_type": "code",
   "execution_count": 52,
   "metadata": {},
   "outputs": [],
   "source": [
    "#df_2018.loc[(df_2018[\"Gender\"]!= 'Male') & (df_2018[\"Gender\"]!='Female'), \"Gender\"]='Others'"
   ]
  },
  {
   "cell_type": "code",
   "execution_count": 53,
   "metadata": {},
   "outputs": [],
   "source": [
    "#t_2018=df_2018['JobSatisfaction'].value_counts()"
   ]
  },
  {
   "cell_type": "code",
   "execution_count": 54,
   "metadata": {},
   "outputs": [
    {
     "data": {
      "image/png": "[encoded data removed]",
      "text/plain": [
       "<Figure size 432x432 with 1 Axes>"
      ]
     },
     "metadata": {},
     "output_type": "display_data"
    }
   ],
   "source": [
    "plt.figure(figsize=(6,6))\n",
    "df_2018[\"JobSatisfaction\"].value_counts().plot.pie(autopct = \"%1.1f%%\",fontsize=10,\n",
    "                                              wedgeprops={\"linewidth\":2},shadow =True)\n",
    "my_circ = plt.Circle((0,0),.7,color=\"white\")\n",
    "#plt.gca().add_artist(my_circ)\n",
    "plt.ylabel(\"\")\n",
    "plt.title(\"overall Job Satisfaction\",fontsize=20)\n",
    "plt.show()"
   ]
  }
 ],
 "metadata": {
  "kernelspec": {
   "display_name": "Python 3",
   "language": "python",
   "name": "python3"
  },
  "language_info": {
   "codemirror_mode": {
    "name": "ipython",
    "version": 3
   },
   "file_extension": ".py",
   "mimetype": "text/x-python",
   "name": "python",
   "nbconvert_exporter": "python",
   "pygments_lexer": "ipython3",
   "version": "3.7.1"
  }
 },
 "nbformat": 4,
 "nbformat_minor": 2
}
